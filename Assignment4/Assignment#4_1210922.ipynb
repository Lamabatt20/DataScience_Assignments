{
 "cells": [
  {
   "cell_type": "markdown",
   "id": "8c6683fa-9376-498c-a7eb-ddba7835f9ac",
   "metadata": {},
   "source": [
    "# **Asignment** # 4"
   ]
  },
  {
   "cell_type": "markdown",
   "id": "2f355832-143d-42cf-98a4-6ccaa6050228",
   "metadata": {},
   "source": [
    "**Name:** Lama Batta"
   ]
  },
  {
   "cell_type": "markdown",
   "id": "a6ad842c-06e9-4d85-93dc-3d13cf21ec39",
   "metadata": {},
   "source": [
    "**ID Student:** 1210922"
   ]
  },
  {
   "cell_type": "markdown",
   "id": "9ad77415-7411-478e-8f1f-a14c04f950cf",
   "metadata": {},
   "source": [
    "<span style=\"color:blue\"> **Import Libraries** </span>"
   ]
  },
  {
   "cell_type": "code",
   "execution_count": 7,
   "id": "c2433e41-4680-4be2-81a0-5783b2ee6fdf",
   "metadata": {},
   "outputs": [],
   "source": [
    "import pandas as pd"
   ]
  },
  {
   "cell_type": "markdown",
   "id": "162bf6bd-81e3-44fe-a822-bb3f7a6a8634",
   "metadata": {},
   "source": [
    "**Describe the data set**"
   ]
  },
  {
   "cell_type": "markdown",
   "id": "2d9aba44-1a39-4510-a959-b90e0755d15d",
   "metadata": {},
   "source": [
    "<span style= \"color:red\" > **Airline review dataset from kaggle** </span>\n",
    "  "
   ]
  },
  {
   "cell_type": "markdown",
   "id": "01d1dcc2-be1b-44f2-86be-148cf5d3b9a2",
   "metadata": {},
   "source": [
    "- This dataset was created based on various reviews and ratings.\n",
    " "
   ]
  },
  {
   "cell_type": "markdown",
   "id": "db5c6713-5a2e-40f0-aec7-a4aedb753854",
   "metadata": {},
   "source": [
    "\n",
    "  - This data set does not contain any missing values.\n",
    "  "
   ]
  },
  {
   "cell_type": "markdown",
   "id": "a8530c0a-c667-46e6-a43f-a185b13ec932",
   "metadata": {},
   "source": [
    "- This dataset can be used to identify insights from reviews and ratings and build visualizations on them."
   ]
  },
  {
   "cell_type": "markdown",
   "id": "d565209c-6299-4d7a-9e0b-843f523d7f05",
   "metadata": {},
   "source": [
    "**Load the data set**"
   ]
  },
  {
   "cell_type": "code",
   "execution_count": 11,
   "id": "25ed8a34-cd53-4329-9174-9209e4b000f3",
   "metadata": {},
   "outputs": [
    {
     "data": {
      "text/html": [
       "<div>\n",
       "<style scoped>\n",
       "    .dataframe tbody tr th:only-of-type {\n",
       "        vertical-align: middle;\n",
       "    }\n",
       "\n",
       "    .dataframe tbody tr th {\n",
       "        vertical-align: top;\n",
       "    }\n",
       "\n",
       "    .dataframe thead th {\n",
       "        text-align: right;\n",
       "    }\n",
       "</style>\n",
       "<table border=\"1\" class=\"dataframe\">\n",
       "  <thead>\n",
       "    <tr style=\"text-align: right;\">\n",
       "      <th></th>\n",
       "      <th>Unnamed: 0</th>\n",
       "      <th>Type Of Traveller</th>\n",
       "      <th>Seat Type</th>\n",
       "      <th>Route</th>\n",
       "      <th>Date Flown</th>\n",
       "      <th>Seat Comfort</th>\n",
       "      <th>Cabin Staff Service</th>\n",
       "      <th>Food and Beverages</th>\n",
       "      <th>Inflight Entertainment</th>\n",
       "      <th>Ground Service</th>\n",
       "      <th>Value For Money</th>\n",
       "      <th>Recommended</th>\n",
       "    </tr>\n",
       "  </thead>\n",
       "  <tbody>\n",
       "    <tr>\n",
       "      <th>0</th>\n",
       "      <td>0</td>\n",
       "      <td>Couple Leisure</td>\n",
       "      <td>Business Class</td>\n",
       "      <td>Athens to London</td>\n",
       "      <td>September 2023</td>\n",
       "      <td>1</td>\n",
       "      <td>1</td>\n",
       "      <td>1</td>\n",
       "      <td>1</td>\n",
       "      <td>1</td>\n",
       "      <td>1</td>\n",
       "      <td>no</td>\n",
       "    </tr>\n",
       "    <tr>\n",
       "      <th>1</th>\n",
       "      <td>1</td>\n",
       "      <td>Business</td>\n",
       "      <td>Economy Class</td>\n",
       "      <td>Milan to San Jose via London</td>\n",
       "      <td>September 2023</td>\n",
       "      <td>3</td>\n",
       "      <td>3</td>\n",
       "      <td>2</td>\n",
       "      <td>4</td>\n",
       "      <td>1</td>\n",
       "      <td>1</td>\n",
       "      <td>no</td>\n",
       "    </tr>\n",
       "    <tr>\n",
       "      <th>2</th>\n",
       "      <td>2</td>\n",
       "      <td>Couple Leisure</td>\n",
       "      <td>First Class</td>\n",
       "      <td>Dallas to Dubrovnik via Heathrow</td>\n",
       "      <td>September 2023</td>\n",
       "      <td>1</td>\n",
       "      <td>4</td>\n",
       "      <td>4</td>\n",
       "      <td>3</td>\n",
       "      <td>3</td>\n",
       "      <td>2</td>\n",
       "      <td>no</td>\n",
       "    </tr>\n",
       "    <tr>\n",
       "      <th>3</th>\n",
       "      <td>3</td>\n",
       "      <td>Business</td>\n",
       "      <td>Business Class</td>\n",
       "      <td>London to Seville</td>\n",
       "      <td>September 2023</td>\n",
       "      <td>2</td>\n",
       "      <td>1</td>\n",
       "      <td>1</td>\n",
       "      <td>3</td>\n",
       "      <td>1</td>\n",
       "      <td>1</td>\n",
       "      <td>no</td>\n",
       "    </tr>\n",
       "    <tr>\n",
       "      <th>4</th>\n",
       "      <td>4</td>\n",
       "      <td>Couple Leisure</td>\n",
       "      <td>Economy Class</td>\n",
       "      <td>London Heathrow to Tokyo</td>\n",
       "      <td>September 2023</td>\n",
       "      <td>1</td>\n",
       "      <td>1</td>\n",
       "      <td>1</td>\n",
       "      <td>3</td>\n",
       "      <td>2</td>\n",
       "      <td>1</td>\n",
       "      <td>no</td>\n",
       "    </tr>\n",
       "    <tr>\n",
       "      <th>...</th>\n",
       "      <td>...</td>\n",
       "      <td>...</td>\n",
       "      <td>...</td>\n",
       "      <td>...</td>\n",
       "      <td>...</td>\n",
       "      <td>...</td>\n",
       "      <td>...</td>\n",
       "      <td>...</td>\n",
       "      <td>...</td>\n",
       "      <td>...</td>\n",
       "      <td>...</td>\n",
       "      <td>...</td>\n",
       "    </tr>\n",
       "    <tr>\n",
       "      <th>95</th>\n",
       "      <td>95</td>\n",
       "      <td>Couple Leisure</td>\n",
       "      <td>Economy Class</td>\n",
       "      <td>Seattle to Nice via London</td>\n",
       "      <td>June 2023</td>\n",
       "      <td>4</td>\n",
       "      <td>4</td>\n",
       "      <td>5</td>\n",
       "      <td>5</td>\n",
       "      <td>1</td>\n",
       "      <td>2</td>\n",
       "      <td>no</td>\n",
       "    </tr>\n",
       "    <tr>\n",
       "      <th>96</th>\n",
       "      <td>96</td>\n",
       "      <td>Couple Leisure</td>\n",
       "      <td>Premium Economy</td>\n",
       "      <td>Sydney via Singapore to London Heathrow</td>\n",
       "      <td>March 2023</td>\n",
       "      <td>4</td>\n",
       "      <td>4</td>\n",
       "      <td>1</td>\n",
       "      <td>3</td>\n",
       "      <td>5</td>\n",
       "      <td>1</td>\n",
       "      <td>no</td>\n",
       "    </tr>\n",
       "    <tr>\n",
       "      <th>97</th>\n",
       "      <td>97</td>\n",
       "      <td>Business</td>\n",
       "      <td>Economy Class</td>\n",
       "      <td>Seattle to Edinburgh via Heathrow</td>\n",
       "      <td>May 2023</td>\n",
       "      <td>2</td>\n",
       "      <td>4</td>\n",
       "      <td>4</td>\n",
       "      <td>4</td>\n",
       "      <td>2</td>\n",
       "      <td>2</td>\n",
       "      <td>no</td>\n",
       "    </tr>\n",
       "    <tr>\n",
       "      <th>98</th>\n",
       "      <td>98</td>\n",
       "      <td>Solo Leisure</td>\n",
       "      <td>Economy Class</td>\n",
       "      <td>Athens to Durban via London Heathrow</td>\n",
       "      <td>April 2023</td>\n",
       "      <td>4</td>\n",
       "      <td>5</td>\n",
       "      <td>3</td>\n",
       "      <td>3</td>\n",
       "      <td>5</td>\n",
       "      <td>4</td>\n",
       "      <td>no</td>\n",
       "    </tr>\n",
       "    <tr>\n",
       "      <th>99</th>\n",
       "      <td>99</td>\n",
       "      <td>Solo Leisure</td>\n",
       "      <td>Business Class</td>\n",
       "      <td>Vancouver to London Heathrow</td>\n",
       "      <td>May 2023</td>\n",
       "      <td>5</td>\n",
       "      <td>5</td>\n",
       "      <td>4</td>\n",
       "      <td>5</td>\n",
       "      <td>4</td>\n",
       "      <td>4</td>\n",
       "      <td>yes</td>\n",
       "    </tr>\n",
       "  </tbody>\n",
       "</table>\n",
       "<p>100 rows × 12 columns</p>\n",
       "</div>"
      ],
      "text/plain": [
       "    Unnamed: 0 Type Of Traveller        Seat Type  \\\n",
       "0            0    Couple Leisure   Business Class   \n",
       "1            1          Business    Economy Class   \n",
       "2            2    Couple Leisure      First Class   \n",
       "3            3          Business   Business Class   \n",
       "4            4    Couple Leisure    Economy Class   \n",
       "..         ...               ...              ...   \n",
       "95          95    Couple Leisure    Economy Class   \n",
       "96          96    Couple Leisure  Premium Economy   \n",
       "97          97          Business    Economy Class   \n",
       "98          98      Solo Leisure    Economy Class   \n",
       "99          99      Solo Leisure   Business Class   \n",
       "\n",
       "                                       Route      Date Flown  Seat Comfort  \\\n",
       "0                           Athens to London  September 2023             1   \n",
       "1               Milan to San Jose via London  September 2023             3   \n",
       "2           Dallas to Dubrovnik via Heathrow  September 2023             1   \n",
       "3                          London to Seville  September 2023             2   \n",
       "4                   London Heathrow to Tokyo  September 2023             1   \n",
       "..                                       ...             ...           ...   \n",
       "95                Seattle to Nice via London       June 2023             4   \n",
       "96  Sydney via Singapore to London Heathrow       March 2023             4   \n",
       "97         Seattle to Edinburgh via Heathrow        May 2023             2   \n",
       "98      Athens to Durban via London Heathrow      April 2023             4   \n",
       "99              Vancouver to London Heathrow        May 2023             5   \n",
       "\n",
       "    Cabin Staff Service  Food and Beverages  Inflight Entertainment  \\\n",
       "0                     1                   1                       1   \n",
       "1                     3                   2                       4   \n",
       "2                     4                   4                       3   \n",
       "3                     1                   1                       3   \n",
       "4                     1                   1                       3   \n",
       "..                  ...                 ...                     ...   \n",
       "95                    4                   5                       5   \n",
       "96                    4                   1                       3   \n",
       "97                    4                   4                       4   \n",
       "98                    5                   3                       3   \n",
       "99                    5                   4                       5   \n",
       "\n",
       "    Ground Service  Value For Money Recommended  \n",
       "0                1                1          no  \n",
       "1                1                1          no  \n",
       "2                3                2          no  \n",
       "3                1                1          no  \n",
       "4                2                1          no  \n",
       "..             ...              ...         ...  \n",
       "95               1                2          no  \n",
       "96               5                1          no  \n",
       "97               2                2          no  \n",
       "98               5                4          no  \n",
       "99               4                4         yes  \n",
       "\n",
       "[100 rows x 12 columns]"
      ]
     },
     "execution_count": 11,
     "metadata": {},
     "output_type": "execute_result"
    }
   ],
   "source": [
    "# Read data from csv file\n",
    "df = pd.read_csv('C:\\\\Users\\\\user\\\\Desktop\\\\python\\\\airline_review.csv')\n",
    "df"
   ]
  },
  {
   "cell_type": "markdown",
   "id": "c5d61c41-cd32-45aa-951f-6a8fe4c0f985",
   "metadata": {},
   "source": [
    "**link kaggle for dataset**"
   ]
  },
  {
   "cell_type": "markdown",
   "id": "22c4655e-3f21-441e-a928-77e51c8a187a",
   "metadata": {},
   "source": [
    "<span style= \"color:blue\"> https://www.kaggle.com/datasets/ratnarohith/airline-review?resource=download </span>"
   ]
  },
  {
   "cell_type": "markdown",
   "id": "e51f7fa6-2bcd-47c4-b2fd-6970eabb0f7e",
   "metadata": {},
   "source": [
    "**The dictionary of the columns** "
   ]
  },
  {
   "cell_type": "code",
   "execution_count": 21,
   "id": "588ca275-420a-47d8-bb5b-c1822b5a9d2a",
   "metadata": {},
   "outputs": [
    {
     "name": "stdout",
     "output_type": "stream",
     "text": [
      "<class 'pandas.core.frame.DataFrame'>\n",
      "RangeIndex: 100 entries, 0 to 99\n",
      "Data columns (total 12 columns):\n",
      " #   Column                  Non-Null Count  Dtype \n",
      "---  ------                  --------------  ----- \n",
      " 0   Unnamed: 0              100 non-null    int64 \n",
      " 1   Type Of Traveller       100 non-null    object\n",
      " 2   Seat Type               100 non-null    object\n",
      " 3   Route                   100 non-null    object\n",
      " 4   Date Flown              100 non-null    object\n",
      " 5   Seat Comfort            100 non-null    int64 \n",
      " 6   Cabin Staff Service     100 non-null    int64 \n",
      " 7   Food and Beverages      100 non-null    int64 \n",
      " 8   Inflight Entertainment  100 non-null    int64 \n",
      " 9   Ground Service          100 non-null    int64 \n",
      " 10  Value For Money         100 non-null    int64 \n",
      " 11  Recommended             100 non-null    object\n",
      "dtypes: int64(7), object(5)\n",
      "memory usage: 9.5+ KB\n"
     ]
    }
   ],
   "source": [
    "# Data Type of columns\n",
    "df.info()"
   ]
  },
  {
   "cell_type": "code",
   "execution_count": 20,
   "id": "b1821a6b-4381-4e1d-b600-ef834d0fa4eb",
   "metadata": {},
   "outputs": [
    {
     "data": {
      "text/html": [
       "<div>\n",
       "<style scoped>\n",
       "    .dataframe tbody tr th:only-of-type {\n",
       "        vertical-align: middle;\n",
       "    }\n",
       "\n",
       "    .dataframe tbody tr th {\n",
       "        vertical-align: top;\n",
       "    }\n",
       "\n",
       "    .dataframe thead th {\n",
       "        text-align: right;\n",
       "    }\n",
       "</style>\n",
       "<table border=\"1\" class=\"dataframe\">\n",
       "  <thead>\n",
       "    <tr style=\"text-align: right;\">\n",
       "      <th></th>\n",
       "      <th>Unnamed: 0</th>\n",
       "      <th>Seat Comfort</th>\n",
       "      <th>Cabin Staff Service</th>\n",
       "      <th>Food and Beverages</th>\n",
       "      <th>Inflight Entertainment</th>\n",
       "      <th>Ground Service</th>\n",
       "      <th>Value For Money</th>\n",
       "    </tr>\n",
       "  </thead>\n",
       "  <tbody>\n",
       "    <tr>\n",
       "      <th>count</th>\n",
       "      <td>100.000000</td>\n",
       "      <td>100.000000</td>\n",
       "      <td>100.000000</td>\n",
       "      <td>100.000000</td>\n",
       "      <td>100.000000</td>\n",
       "      <td>100.000000</td>\n",
       "      <td>100.000000</td>\n",
       "    </tr>\n",
       "    <tr>\n",
       "      <th>mean</th>\n",
       "      <td>49.500000</td>\n",
       "      <td>2.230000</td>\n",
       "      <td>2.850000</td>\n",
       "      <td>2.510000</td>\n",
       "      <td>2.760000</td>\n",
       "      <td>1.950000</td>\n",
       "      <td>1.790000</td>\n",
       "    </tr>\n",
       "    <tr>\n",
       "      <th>std</th>\n",
       "      <td>29.011492</td>\n",
       "      <td>1.179411</td>\n",
       "      <td>1.395339</td>\n",
       "      <td>1.141459</td>\n",
       "      <td>1.006243</td>\n",
       "      <td>1.305582</td>\n",
       "      <td>1.208514</td>\n",
       "    </tr>\n",
       "    <tr>\n",
       "      <th>min</th>\n",
       "      <td>0.000000</td>\n",
       "      <td>1.000000</td>\n",
       "      <td>1.000000</td>\n",
       "      <td>1.000000</td>\n",
       "      <td>1.000000</td>\n",
       "      <td>1.000000</td>\n",
       "      <td>1.000000</td>\n",
       "    </tr>\n",
       "    <tr>\n",
       "      <th>25%</th>\n",
       "      <td>24.750000</td>\n",
       "      <td>1.000000</td>\n",
       "      <td>1.000000</td>\n",
       "      <td>1.000000</td>\n",
       "      <td>3.000000</td>\n",
       "      <td>1.000000</td>\n",
       "      <td>1.000000</td>\n",
       "    </tr>\n",
       "    <tr>\n",
       "      <th>50%</th>\n",
       "      <td>49.500000</td>\n",
       "      <td>2.000000</td>\n",
       "      <td>3.000000</td>\n",
       "      <td>3.000000</td>\n",
       "      <td>3.000000</td>\n",
       "      <td>1.000000</td>\n",
       "      <td>1.000000</td>\n",
       "    </tr>\n",
       "    <tr>\n",
       "      <th>75%</th>\n",
       "      <td>74.250000</td>\n",
       "      <td>3.000000</td>\n",
       "      <td>4.000000</td>\n",
       "      <td>3.000000</td>\n",
       "      <td>3.000000</td>\n",
       "      <td>3.000000</td>\n",
       "      <td>2.000000</td>\n",
       "    </tr>\n",
       "    <tr>\n",
       "      <th>max</th>\n",
       "      <td>99.000000</td>\n",
       "      <td>5.000000</td>\n",
       "      <td>5.000000</td>\n",
       "      <td>5.000000</td>\n",
       "      <td>5.000000</td>\n",
       "      <td>5.000000</td>\n",
       "      <td>5.000000</td>\n",
       "    </tr>\n",
       "  </tbody>\n",
       "</table>\n",
       "</div>"
      ],
      "text/plain": [
       "       Unnamed: 0  Seat Comfort  Cabin Staff Service  Food and Beverages  \\\n",
       "count  100.000000    100.000000           100.000000          100.000000   \n",
       "mean    49.500000      2.230000             2.850000            2.510000   \n",
       "std     29.011492      1.179411             1.395339            1.141459   \n",
       "min      0.000000      1.000000             1.000000            1.000000   \n",
       "25%     24.750000      1.000000             1.000000            1.000000   \n",
       "50%     49.500000      2.000000             3.000000            3.000000   \n",
       "75%     74.250000      3.000000             4.000000            3.000000   \n",
       "max     99.000000      5.000000             5.000000            5.000000   \n",
       "\n",
       "       Inflight Entertainment  Ground Service  Value For Money  \n",
       "count              100.000000      100.000000       100.000000  \n",
       "mean                 2.760000        1.950000         1.790000  \n",
       "std                  1.006243        1.305582         1.208514  \n",
       "min                  1.000000        1.000000         1.000000  \n",
       "25%                  3.000000        1.000000         1.000000  \n",
       "50%                  3.000000        1.000000         1.000000  \n",
       "75%                  3.000000        3.000000         2.000000  \n",
       "max                  5.000000        5.000000         5.000000  "
      ]
     },
     "execution_count": 20,
     "metadata": {},
     "output_type": "execute_result"
    }
   ],
   "source": [
    "# description of columns\n",
    "df.describe()"
   ]
  },
  {
   "cell_type": "markdown",
   "id": "47bb42df-9200-41da-8a5d-871acd22080d",
   "metadata": {},
   "source": [
    "<span style=\"color:red\"> 1. What is the shape of the data? </span>"
   ]
  },
  {
   "cell_type": "code",
   "execution_count": 19,
   "id": "cd11066f-8d5b-44d1-bd2e-fa4013e8c946",
   "metadata": {},
   "outputs": [
    {
     "data": {
      "text/plain": [
       "(100, 12)"
      ]
     },
     "execution_count": 19,
     "metadata": {},
     "output_type": "execute_result"
    }
   ],
   "source": [
    "#shape of dataset\n",
    "df.shape"
   ]
  },
  {
   "cell_type": "markdown",
   "id": "e1c79f6e-8fb6-42ff-b138-4b8be7d28f87",
   "metadata": {},
   "source": [
    " <span style=\"color:red\"> 2. Does it contain missing values? </span>"
   ]
  },
  {
   "cell_type": "code",
   "execution_count": 23,
   "id": "c7e49924-616a-4cde-8cfd-be99d53b60f4",
   "metadata": {},
   "outputs": [
    {
     "name": "stdout",
     "output_type": "stream",
     "text": [
      "Unnamed: 0                0\n",
      "Type Of Traveller         0\n",
      "Seat Type                 0\n",
      "Route                     0\n",
      "Date Flown                0\n",
      "Seat Comfort              0\n",
      "Cabin Staff Service       0\n",
      "Food and Beverages        0\n",
      "Inflight Entertainment    0\n",
      "Ground Service            0\n",
      "Value For Money           0\n",
      "Recommended               0\n",
      "dtype: int64\n"
     ]
    }
   ],
   "source": [
    "# Check missing values\n",
    "missing_value =df.isna().sum()\n",
    "print(missing_value)"
   ]
  },
  {
   "cell_type": "markdown",
   "id": "bb46b9a3-274d-4077-a0e1-939a6f9d3bb3",
   "metadata": {},
   "source": [
    "<span style=\"color:blue\">  There are no missing values in dataset </span>"
   ]
  },
  {
   "cell_type": "markdown",
   "id": "9006d155-2bf0-401d-890f-42ad324b07cf",
   "metadata": {},
   "source": [
    "<span style=\"color:red\"> 3. Which features are numerical, and which are nominal, and which are ordinal ? </span>"
   ]
  },
  {
   "cell_type": "markdown",
   "id": "7f808c82-6dbd-49f1-9b19-fcbadd831ba6",
   "metadata": {},
   "source": [
    "- **Numerical:**\n",
    "     - Represent values with numbers.\n",
    "     - Differences between values can be measured.\n",
    "     - Arithmetic operations like addition, subtraction, multiplication, and division can be performed."
   ]
  },
  {
   "cell_type": "code",
   "execution_count": 40,
   "id": "6e2dd8c4-9928-4a9b-8224-18e1d73ca2c6",
   "metadata": {},
   "outputs": [
    {
     "name": "stdout",
     "output_type": "stream",
     "text": [
      "Index(['Unnamed: 0', 'Seat Comfort', 'Cabin Staff Service',\n",
      "       'Food and Beverages', 'Inflight Entertainment', 'Ground Service',\n",
      "       'Value For Money'],\n",
      "      dtype='object')\n"
     ]
    }
   ],
   "source": [
    "# select numerical columns \n",
    "Numerical_column=df.select_dtypes(include=['int64']).columns\n",
    "print (Numerical_column)"
   ]
  },
  {
   "cell_type": "markdown",
   "id": "aad76ad3-469c-4f41-ab86-f9659d6d1b04",
   "metadata": {},
   "source": [
    "- **Numerical Features:** Unnamed: 0,Seat Comfort, Cabin Staff Service, Food and Beverages, Inflight Entertainment, Ground Service, Value For Money."
   ]
  },
  {
   "cell_type": "markdown",
   "id": "7c3dc6ef-c573-4fed-9898-74119d10b2eb",
   "metadata": {},
   "source": [
    "- **Nominal:**\n",
    "   - Describe categories or labels.\n",
    "   - No natural order exists between categories.\n",
    "   - Arithmetic operations like addition or subtraction are not meaningful for nominal variables."
   ]
  },
  {
   "cell_type": "code",
   "execution_count": 41,
   "id": "b6f9b21a-a864-44af-8439-2c24540af118",
   "metadata": {},
   "outputs": [
    {
     "name": "stdout",
     "output_type": "stream",
     "text": [
      "Index(['Type Of Traveller', 'Seat Type', 'Route', 'Date Flown', 'Recommended'], dtype='object')\n"
     ]
    }
   ],
   "source": [
    "# select nominal columns \n",
    "Nominal_column=df.select_dtypes(include=['object']).columns\n",
    "print (Nominal_column)"
   ]
  },
  {
   "cell_type": "markdown",
   "id": "7a623802-718d-4f81-ade9-556184fe0fa9",
   "metadata": {},
   "source": [
    "- **Nominal Features:** Data Flown,Type Of Traveller, Seat Type, Route, Recommended."
   ]
  },
  {
   "cell_type": "markdown",
   "id": "4f24fd69-27f4-4b0a-b5da-f4e666a04696",
   "metadata": {},
   "source": [
    "- **Ordinal:**\n",
    "   - Describe data that have a specific order or ranking.\n",
    "   - Each value has a certain level of importance.\n",
    "   - Basic operations like comparison between values and ranking are possible."
   ]
  },
  {
   "cell_type": "markdown",
   "id": "37963824-bb9f-409d-917e-d0beee4bcf58",
   "metadata": {},
   "source": [
    "- **Ordinal Features:** Date Flown, Seat Comfort, Cabin Staff Service, Food and Beverages, Inflight Entertainment, Ground Service, Value For Money."
   ]
  },
  {
   "cell_type": "markdown",
   "id": "2461b8f2-5e08-4b06-bfce-4cda6e77bd62",
   "metadata": {},
   "source": [
    "<span style=\"color:red\"> 4. Select two numerical features and: </span>"
   ]
  },
  {
   "cell_type": "code",
   "execution_count": 36,
   "id": "064f6be5-c039-4ee3-b400-acf742617c01",
   "metadata": {},
   "outputs": [
    {
     "name": "stdout",
     "output_type": "stream",
     "text": [
      "Index(['Unnamed: 0', 'Seat Comfort', 'Cabin Staff Service',\n",
      "       'Food and Beverages', 'Inflight Entertainment', 'Ground Service',\n",
      "       'Value For Money'],\n",
      "      dtype='object')\n"
     ]
    }
   ],
   "source": [
    "# select numerical columns \n",
    "Numerical_column=df.select_dtypes(include=['int64']).columns\n",
    "print (Numerical_column)"
   ]
  },
  {
   "cell_type": "code",
   "execution_count": 31,
   "id": "e305c15f-7af3-400f-b7cc-2d2c792468e0",
   "metadata": {},
   "outputs": [
    {
     "name": "stdout",
     "output_type": "stream",
     "text": [
      "select numerical features: ['Food and Beverages', 'Value For Money']\n"
     ]
    }
   ],
   "source": [
    "# select two numerical features\n",
    "select_features=[Numerical_column[3],Numerical_column[6]]\n",
    "print(\"select numerical features:\",\n",
    "      select_features)"
   ]
  },
  {
   "cell_type": "markdown",
   "id": "6e0854f5-7f71-4a84-9ae2-46cd02ea7288",
   "metadata": {},
   "source": [
    "<span style=\"color:red\"> 5. Show their descriptive statistics, add your interpretation on each feature </span>"
   ]
  },
  {
   "cell_type": "code",
   "execution_count": 34,
   "id": "da45c856-1f58-4564-b27d-a5e8d85d88ba",
   "metadata": {},
   "outputs": [
    {
     "name": "stdout",
     "output_type": "stream",
     "text": [
      "       Food and Beverages  Value For Money\n",
      "count          100.000000       100.000000\n",
      "mean             2.510000         1.790000\n",
      "std              1.141459         1.208514\n",
      "min              1.000000         1.000000\n",
      "25%              1.000000         1.000000\n",
      "50%              3.000000         1.000000\n",
      "75%              3.000000         2.000000\n",
      "max              5.000000         5.000000\n"
     ]
    }
   ],
   "source": [
    "# descriptive statistics\n",
    "feature_df=df[select_features].describe()\n",
    "print(feature_df)"
   ]
  },
  {
   "cell_type": "markdown",
   "id": "8a17e132-0fe6-4c42-95b5-e78673ca9b1b",
   "metadata": {},
   "source": [
    "- **Interpretation on each feature**"
   ]
  },
  {
   "cell_type": "markdown",
   "id": "ed8cdc15-fcc3-4772-9064-b2e29503b020",
   "metadata": {},
   "source": [
    "**Food and Beverages:** This is a numeric column,no missing values, and a mean of 2.5. The distribution of this feature appears to be normal, with no skewness."
   ]
  },
  {
   "cell_type": "markdown",
   "id": "7cf6bace-c306-4701-9d90-7893aa434e2e",
   "metadata": {},
   "source": [
    "**Value For Money:** This is a numeric column, no missing values, and a mean of 1.79. The distribution of this feature appears to be normal, with no skewness."
   ]
  },
  {
   "cell_type": "markdown",
   "id": "0bd95def-a5bd-4d50-bd85-b6c960f8b045",
   "metadata": {},
   "source": [
    "<span style=\"color:red\"> 6. Does they have skweness? interpret </span>"
   ]
  },
  {
   "cell_type": "code",
   "execution_count": 60,
   "id": "e03a997f-5097-4edb-869d-e1f7998b787f",
   "metadata": {},
   "outputs": [
    {
     "name": "stdout",
     "output_type": "stream",
     "text": [
      "Food and Beverages    2.819683\n",
      "Value For Money       2.820167\n",
      "dtype: float64\n"
     ]
    }
   ],
   "source": [
    "# check skweness\n",
    "skweness=feature_df.skew()\n",
    "# print skweness value\n",
    "print(skweness)"
   ]
  },
  {
   "cell_type": "markdown",
   "id": "40181fcf-af7e-4e82-af9d-59aa6836167b",
   "metadata": {},
   "source": [
    "<span style=\"color:blue\"> We conclude that the values are positive but close to zero for both features as the data are slightly skewed to the right  </span>"
   ]
  },
  {
   "cell_type": "markdown",
   "id": "6a832eb6-e5fe-456d-8801-a39ff6cf7176",
   "metadata": {},
   "source": [
    "<span style=\"color:red\"> 7. Select two categorical features and verify if the data is balanced between the categories of each feature  </span>"
   ]
  },
  {
   "cell_type": "markdown",
   "id": "60458220-ee49-43db-9dc8-ca5fb48423ac",
   "metadata": {},
   "source": [
    "<span style=\"color:blue\"> Categorical values may not be consecutive or numerical, but may be nominal </span>\n"
   ]
  },
  {
   "cell_type": "code",
   "execution_count": 61,
   "id": "d327cc61-f417-45a4-9fa9-ec5a62adbf16",
   "metadata": {},
   "outputs": [
    {
     "name": "stdout",
     "output_type": "stream",
     "text": [
      "Index(['Type Of Traveller', 'Seat Type', 'Route', 'Date Flown', 'Recommended'], dtype='object')\n"
     ]
    }
   ],
   "source": [
    "# select nominal columns \n",
    "Nominal_column=df.select_dtypes(include=['object']).columns\n",
    "print (Nominal_column)"
   ]
  },
  {
   "cell_type": "code",
   "execution_count": 56,
   "id": "14a8b84a-e8af-46dc-a6af-f59dac398a55",
   "metadata": {},
   "outputs": [
    {
     "name": "stdout",
     "output_type": "stream",
     "text": [
      "select nominal features: ['Type Of Traveller', 'Date Flown']\n"
     ]
    }
   ],
   "source": [
    "# select two nominal features\n",
    "select_features=[Nominal_column[0],Nominal_column[3]]\n",
    "print(\"select nominal features:\",\n",
    "      select_features)"
   ]
  },
  {
   "cell_type": "code",
   "execution_count": 57,
   "id": "07d343a7-e1d3-4942-8cf6-0946ff489d72",
   "metadata": {},
   "outputs": [
    {
     "name": "stdout",
     "output_type": "stream",
     "text": [
      "Type Of Traveller\n",
      "Couple Leisure    36\n",
      "Solo Leisure      29\n",
      "Family Leisure    19\n",
      "Business          16\n",
      "Name: count, dtype: int64\n"
     ]
    }
   ],
   "source": [
    "# verify if the data is balanced between the categories of each feature\n",
    "#print balance for Type of Traveller \n",
    "TypeofTraveller_balance=df['Type Of Traveller'].value_counts()\n",
    "print(TypeofTraveller_balance)"
   ]
  },
  {
   "cell_type": "code",
   "execution_count": 62,
   "id": "75cabbff-2d69-44c4-a015-aec61de8da47",
   "metadata": {},
   "outputs": [
    {
     "name": "stdout",
     "output_type": "stream",
     "text": [
      "Date Flown\n",
      "June 2023         31\n",
      "July 2023         20\n",
      "August 2023       19\n",
      "September 2023    17\n",
      "May 2023           6\n",
      "April 2023         2\n",
      "November 2022      2\n",
      "March 2023         2\n",
      "December 2022      1\n",
      "Name: count, dtype: int64\n"
     ]
    }
   ],
   "source": [
    "#print balance for Data Flown\n",
    "DataFlown_balance=df['Date Flown'].value_counts()\n",
    "print(DataFlown_balance)"
   ]
  },
  {
   "cell_type": "markdown",
   "id": "51ea364c-1d0b-43bc-875e-f5cd86c2c0d2",
   "metadata": {},
   "source": [
    "<span style=\"color:red\"> 8. Based on your intuition, select two features that you think they could be correlated. Verify your assumption using both visualization and the correlation coefficient approaches  </span>"
   ]
  },
  {
   "cell_type": "markdown",
   "id": "4a1d28d4-528f-4a7d-843e-b195c87d24d6",
   "metadata": {},
   "source": [
    "**Select two features** \n",
    "- Seat Comfort\n",
    "- Cabin Staff Service"
   ]
  },
  {
   "cell_type": "code",
   "execution_count": 48,
   "id": "7d435d6e-985f-43ef-ac1a-e989b99f18e1",
   "metadata": {},
   "outputs": [
    {
     "data": {
      "image/png": "[encoded data removed]",
      "text/plain": [
       "<Figure size 640x480 with 1 Axes>"
      ]
     },
     "metadata": {},
     "output_type": "display_data"
    }
   ],
   "source": [
    "#Verify using visualization \n",
    "df.plot.scatter(x='Seat Comfort', y='Cabin Staff Service');"
   ]
  },
  {
   "cell_type": "markdown",
   "id": "e46414c7-7f18-47d5-9864-d3d4b255eb2e",
   "metadata": {},
   "source": [
    "<span style=\"color:blue\"> We prove using visualization that the two features are correlated  </span>"
   ]
  },
  {
   "cell_type": "code",
   "execution_count": 63,
   "id": "4447a8bc-1bfd-4d78-bf51-1d7c5022b6b8",
   "metadata": {},
   "outputs": [
    {
     "name": "stdout",
     "output_type": "stream",
     "text": [
      "The correlation coefficient between two features Seat Comfort and Cabin Staff Service = 0.6472419409359156\n"
     ]
    }
   ],
   "source": [
    "#Verify using the correlation coefficient\n",
    "correlation_value=df['Seat Comfort'].corr(df['Cabin Staff Service'])\n",
    "# print correlation value between two features \n",
    "print (\"The correlation coefficient between two features\",'Seat Comfort',\"and\",'Cabin Staff Service',\"=\",correlation_value)"
   ]
  },
  {
   "cell_type": "markdown",
   "id": "184815cd-3940-4af2-b859-53eedfdcffa0",
   "metadata": {},
   "source": [
    "<span style=\"color:blue\"> This indicates a moderate positive relationship between the two features. This means that as Seat Comfort values increase, we are likely to see Cabin Crew Service values increase as well, and vice versa.  </span>"
   ]
  },
  {
   "cell_type": "markdown",
   "id": "49f07aac-28cf-4bb5-a3e7-47410e4d7966",
   "metadata": {},
   "source": [
    "<span style=\"color:red\"> 9. Are their features that can be used as index? </span>"
   ]
  },
  {
   "cell_type": "markdown",
   "id": "12144d65-2e09-414b-b1a9-66c903d4973d",
   "metadata": {},
   "source": [
    "Among the features that are suitable to be an index are:\n",
    "- Seat Comfort\n",
    "- Cabin Staff Service\n",
    "- Food and Beverages \n",
    "- Inflight Entertainment\n",
    "- Ground Service\n",
    "- Value For Money "
   ]
  },
  {
   "cell_type": "code",
   "execution_count": null,
   "id": "1e6b2690-7e15-41b0-86cc-b85553e30f78",
   "metadata": {},
   "outputs": [],
   "source": []
  }
 ],
 "metadata": {
  "kernelspec": {
   "display_name": "Python 3 (ipykernel)",
   "language": "python",
   "name": "python3"
  },
  "language_info": {
   "codemirror_mode": {
    "name": "ipython",
    "version": 3
   },
   "file_extension": ".py",
   "mimetype": "text/x-python",
   "name": "python",
   "nbconvert_exporter": "python",
   "pygments_lexer": "ipython3",
   "version": "3.12.2"
  }
 },
 "nbformat": 4,
 "nbformat_minor": 5
}
