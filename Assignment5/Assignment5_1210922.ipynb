{
 "cells": [
  {
   "cell_type": "markdown",
   "id": "a4dbb09d-1023-4e1b-8719-9548ee0f7980",
   "metadata": {},
   "source": [
    "# Assignment#5"
   ]
  },
  {
   "cell_type": "markdown",
   "id": "dcae63ba-1ad8-458b-891b-7e4090958db2",
   "metadata": {},
   "source": [
    "**Name:** Lama Batta"
   ]
  },
  {
   "cell_type": "markdown",
   "id": "4bf8cdd8-f290-47e7-ab8d-65cd163f8901",
   "metadata": {},
   "source": [
    "**ID:** 1210922"
   ]
  },
  {
   "cell_type": "markdown",
   "id": "0f298d40-ae42-4f55-aaa8-83006f16bf8c",
   "metadata": {},
   "source": [
    "<span style=\"color:blue\"> **Import Libraries** </span>"
   ]
  },
  {
   "cell_type": "code",
   "execution_count": 2,
   "id": "a7b7126d-fbed-4c24-9fb4-63ec2ba75fed",
   "metadata": {},
   "outputs": [],
   "source": [
    "import pandas as pd\n",
    "import numpy as np"
   ]
  },
  {
   "cell_type": "code",
   "execution_count": 3,
   "id": "5dfddcc2-1073-4b2c-9d18-6cc237dc699c",
   "metadata": {},
   "outputs": [
    {
     "data": {
      "text/html": [
       "<div>\n",
       "<style scoped>\n",
       "    .dataframe tbody tr th:only-of-type {\n",
       "        vertical-align: middle;\n",
       "    }\n",
       "\n",
       "    .dataframe tbody tr th {\n",
       "        vertical-align: top;\n",
       "    }\n",
       "\n",
       "    .dataframe thead th {\n",
       "        text-align: right;\n",
       "    }\n",
       "</style>\n",
       "<table border=\"1\" class=\"dataframe\">\n",
       "  <thead>\n",
       "    <tr style=\"text-align: right;\">\n",
       "      <th></th>\n",
       "      <th>Invoice</th>\n",
       "      <th>StockCode</th>\n",
       "      <th>Description</th>\n",
       "      <th>Quantity</th>\n",
       "      <th>InvoiceDate</th>\n",
       "      <th>Price</th>\n",
       "      <th>Customer ID</th>\n",
       "      <th>Country</th>\n",
       "    </tr>\n",
       "  </thead>\n",
       "  <tbody>\n",
       "    <tr>\n",
       "      <th>0</th>\n",
       "      <td>489434</td>\n",
       "      <td>85048</td>\n",
       "      <td>15CM CHRISTMAS GLASS BALL 20 LIGHTS</td>\n",
       "      <td>12</td>\n",
       "      <td>2009-12-01 07:45:00</td>\n",
       "      <td>6.95</td>\n",
       "      <td>13085.0</td>\n",
       "      <td>United Kingdom</td>\n",
       "    </tr>\n",
       "    <tr>\n",
       "      <th>1</th>\n",
       "      <td>489434</td>\n",
       "      <td>79323P</td>\n",
       "      <td>PINK CHERRY LIGHTS</td>\n",
       "      <td>12</td>\n",
       "      <td>2009-12-01 07:45:00</td>\n",
       "      <td>6.75</td>\n",
       "      <td>13085.0</td>\n",
       "      <td>United Kingdom</td>\n",
       "    </tr>\n",
       "    <tr>\n",
       "      <th>2</th>\n",
       "      <td>489434</td>\n",
       "      <td>79323W</td>\n",
       "      <td>WHITE CHERRY LIGHTS</td>\n",
       "      <td>12</td>\n",
       "      <td>2009-12-01 07:45:00</td>\n",
       "      <td>6.75</td>\n",
       "      <td>13085.0</td>\n",
       "      <td>United Kingdom</td>\n",
       "    </tr>\n",
       "    <tr>\n",
       "      <th>3</th>\n",
       "      <td>489434</td>\n",
       "      <td>22041</td>\n",
       "      <td>RECORD FRAME 7\" SINGLE SIZE</td>\n",
       "      <td>48</td>\n",
       "      <td>2009-12-01 07:45:00</td>\n",
       "      <td>2.10</td>\n",
       "      <td>13085.0</td>\n",
       "      <td>United Kingdom</td>\n",
       "    </tr>\n",
       "    <tr>\n",
       "      <th>4</th>\n",
       "      <td>489434</td>\n",
       "      <td>21232</td>\n",
       "      <td>STRAWBERRY CERAMIC TRINKET BOX</td>\n",
       "      <td>24</td>\n",
       "      <td>2009-12-01 07:45:00</td>\n",
       "      <td>1.25</td>\n",
       "      <td>13085.0</td>\n",
       "      <td>United Kingdom</td>\n",
       "    </tr>\n",
       "    <tr>\n",
       "      <th>...</th>\n",
       "      <td>...</td>\n",
       "      <td>...</td>\n",
       "      <td>...</td>\n",
       "      <td>...</td>\n",
       "      <td>...</td>\n",
       "      <td>...</td>\n",
       "      <td>...</td>\n",
       "      <td>...</td>\n",
       "    </tr>\n",
       "    <tr>\n",
       "      <th>1067366</th>\n",
       "      <td>581587</td>\n",
       "      <td>22899</td>\n",
       "      <td>CHILDREN'S APRON DOLLY GIRL</td>\n",
       "      <td>6</td>\n",
       "      <td>2011-12-09 12:50:00</td>\n",
       "      <td>2.10</td>\n",
       "      <td>12680.0</td>\n",
       "      <td>France</td>\n",
       "    </tr>\n",
       "    <tr>\n",
       "      <th>1067367</th>\n",
       "      <td>581587</td>\n",
       "      <td>23254</td>\n",
       "      <td>CHILDRENS CUTLERY DOLLY GIRL</td>\n",
       "      <td>4</td>\n",
       "      <td>2011-12-09 12:50:00</td>\n",
       "      <td>4.15</td>\n",
       "      <td>12680.0</td>\n",
       "      <td>France</td>\n",
       "    </tr>\n",
       "    <tr>\n",
       "      <th>1067368</th>\n",
       "      <td>581587</td>\n",
       "      <td>23255</td>\n",
       "      <td>CHILDRENS CUTLERY CIRCUS PARADE</td>\n",
       "      <td>4</td>\n",
       "      <td>2011-12-09 12:50:00</td>\n",
       "      <td>4.15</td>\n",
       "      <td>12680.0</td>\n",
       "      <td>France</td>\n",
       "    </tr>\n",
       "    <tr>\n",
       "      <th>1067369</th>\n",
       "      <td>581587</td>\n",
       "      <td>22138</td>\n",
       "      <td>BAKING SET 9 PIECE RETROSPOT</td>\n",
       "      <td>3</td>\n",
       "      <td>2011-12-09 12:50:00</td>\n",
       "      <td>4.95</td>\n",
       "      <td>12680.0</td>\n",
       "      <td>France</td>\n",
       "    </tr>\n",
       "    <tr>\n",
       "      <th>1067370</th>\n",
       "      <td>581587</td>\n",
       "      <td>POST</td>\n",
       "      <td>POSTAGE</td>\n",
       "      <td>1</td>\n",
       "      <td>2011-12-09 12:50:00</td>\n",
       "      <td>18.00</td>\n",
       "      <td>12680.0</td>\n",
       "      <td>France</td>\n",
       "    </tr>\n",
       "  </tbody>\n",
       "</table>\n",
       "<p>1067371 rows × 8 columns</p>\n",
       "</div>"
      ],
      "text/plain": [
       "        Invoice StockCode                          Description  Quantity  \\\n",
       "0        489434     85048  15CM CHRISTMAS GLASS BALL 20 LIGHTS        12   \n",
       "1        489434    79323P                   PINK CHERRY LIGHTS        12   \n",
       "2        489434    79323W                  WHITE CHERRY LIGHTS        12   \n",
       "3        489434     22041         RECORD FRAME 7\" SINGLE SIZE         48   \n",
       "4        489434     21232       STRAWBERRY CERAMIC TRINKET BOX        24   \n",
       "...         ...       ...                                  ...       ...   \n",
       "1067366  581587     22899         CHILDREN'S APRON DOLLY GIRL          6   \n",
       "1067367  581587     23254        CHILDRENS CUTLERY DOLLY GIRL          4   \n",
       "1067368  581587     23255      CHILDRENS CUTLERY CIRCUS PARADE         4   \n",
       "1067369  581587     22138        BAKING SET 9 PIECE RETROSPOT          3   \n",
       "1067370  581587      POST                              POSTAGE         1   \n",
       "\n",
       "                 InvoiceDate  Price  Customer ID         Country  \n",
       "0        2009-12-01 07:45:00   6.95      13085.0  United Kingdom  \n",
       "1        2009-12-01 07:45:00   6.75      13085.0  United Kingdom  \n",
       "2        2009-12-01 07:45:00   6.75      13085.0  United Kingdom  \n",
       "3        2009-12-01 07:45:00   2.10      13085.0  United Kingdom  \n",
       "4        2009-12-01 07:45:00   1.25      13085.0  United Kingdom  \n",
       "...                      ...    ...          ...             ...  \n",
       "1067366  2011-12-09 12:50:00   2.10      12680.0          France  \n",
       "1067367  2011-12-09 12:50:00   4.15      12680.0          France  \n",
       "1067368  2011-12-09 12:50:00   4.15      12680.0          France  \n",
       "1067369  2011-12-09 12:50:00   4.95      12680.0          France  \n",
       "1067370  2011-12-09 12:50:00  18.00      12680.0          France  \n",
       "\n",
       "[1067371 rows x 8 columns]"
      ]
     },
     "execution_count": 3,
     "metadata": {},
     "output_type": "execute_result"
    }
   ],
   "source": [
    "# Read data from csv file\n",
    "df = pd.read_csv('online_retail_II.csv')\n",
    "df"
   ]
  },
  {
   "cell_type": "code",
   "execution_count": 4,
   "id": "0957fd48-8048-4d6b-bf81-05b8f2378447",
   "metadata": {},
   "outputs": [],
   "source": [
    "#Set seed with your ID\n",
    "seed=np.random.seed(1210922)"
   ]
  },
  {
   "cell_type": "code",
   "execution_count": 5,
   "id": "ab8fe903-d8be-4744-a98a-e22b5f6516ba",
   "metadata": {},
   "outputs": [],
   "source": [
    "# Randomly select 200,000 rows using the seed\n",
    "sample_df = df.sample(n=200000, random_state=seed)"
   ]
  },
  {
   "cell_type": "markdown",
   "id": "46f977bd-0fdb-47e0-8c89-ab5d0249e5e5",
   "metadata": {},
   "source": [
    "<span style=\"color:red\"> 1. Determine the total sales per invoice and identify the top 5 invoices.  </span>"
   ]
  },
  {
   "cell_type": "code",
   "execution_count": 7,
   "id": "aa023778-672d-4c69-9ee0-8b4b33648dbb",
   "metadata": {},
   "outputs": [
    {
     "data": {
      "text/plain": [
       "0           83.40\n",
       "1           81.00\n",
       "2           81.00\n",
       "3          100.80\n",
       "4           30.00\n",
       "            ...  \n",
       "1067366     12.60\n",
       "1067367     16.60\n",
       "1067368     16.60\n",
       "1067369     14.85\n",
       "1067370     18.00\n",
       "Name: Total_price, Length: 1067371, dtype: float64"
      ]
     },
     "execution_count": 7,
     "metadata": {},
     "output_type": "execute_result"
    }
   ],
   "source": [
    "#Calculate total sales \n",
    "df['Total_price']=df['Quantity'] * df['Price']\n",
    "df['Total_price']"
   ]
  },
  {
   "cell_type": "markdown",
   "id": "3370ff17-6856-4db7-810d-cb06c59f87cd",
   "metadata": {},
   "source": [
    "<span style=\"color:blue\"> The total price was calculated by multiplying the price by the quantity, and these are the results </span>"
   ]
  },
  {
   "cell_type": "code",
   "execution_count": 8,
   "id": "9e7f9851-8705-4120-bd7f-f9e559dcdfbf",
   "metadata": {},
   "outputs": [
    {
     "name": "stdout",
     "output_type": "stream",
     "text": [
      "Top 5 Invoices: Invoice\n",
      "581483    168469.60\n",
      "541431     77183.60\n",
      "574941     52940.94\n",
      "576365     50653.91\n",
      "533027     49844.99\n",
      "Name: Total_price, dtype: float64\n"
     ]
    }
   ],
   "source": [
    "#Identify the top 5 invoices\n",
    "top_invoices = df.groupby('Invoice')['Total_price'].sum().sort_values(ascending=False)[:5]\n",
    "print(\"Top 5 Invoices:\",top_invoices)\n"
   ]
  },
  {
   "cell_type": "markdown",
   "id": "026cd922-f8a4-42ca-ae48-b74115758d3c",
   "metadata": {},
   "source": [
    "<span style=\"color:blue\"> We found the first 5 invoices for Total Price for each invoice and these are the results </span>"
   ]
  },
  {
   "cell_type": "markdown",
   "id": "548848a6-ee1f-4989-8351-01b2e0596fca",
   "metadata": {},
   "source": [
    "<span style=\"color:red\"> 2. Compute the total sales per customer and list the top 5 customers. </span>"
   ]
  },
  {
   "cell_type": "code",
   "execution_count": 9,
   "id": "9e1ee1ef-c898-4990-85d3-a0295fcb0bfe",
   "metadata": {},
   "outputs": [
    {
     "data": {
      "text/plain": [
       "0           83.40\n",
       "1           81.00\n",
       "2           81.00\n",
       "3          100.80\n",
       "4           30.00\n",
       "            ...  \n",
       "1067366     12.60\n",
       "1067367     16.60\n",
       "1067368     16.60\n",
       "1067369     14.85\n",
       "1067370     18.00\n",
       "Name: Total_price, Length: 1067371, dtype: float64"
      ]
     },
     "execution_count": 9,
     "metadata": {},
     "output_type": "execute_result"
    }
   ],
   "source": [
    "#Calculate total sales \n",
    "df['Total_price']=df['Quantity'] * df['Price']\n",
    "df['Total_price']"
   ]
  },
  {
   "cell_type": "markdown",
   "id": "5948d13a-a522-4876-b37e-ff2f6a98f518",
   "metadata": {},
   "source": [
    "<span style=\"color:blue\"> The total price was calculated by multiplying the price by the quantity, and these are the results </span>"
   ]
  },
  {
   "cell_type": "code",
   "execution_count": 13,
   "id": "c5cefc22-5286-48ef-9557-d4da6f738b03",
   "metadata": {},
   "outputs": [
    {
     "name": "stdout",
     "output_type": "stream",
     "text": [
      "Top 5 customers: Customer ID\n",
      "18102.0    598215.22\n",
      "14646.0    523342.07\n",
      "14156.0    296564.69\n",
      "14911.0    270248.53\n",
      "17450.0    233579.39\n",
      "Name: Total_price, dtype: float64\n"
     ]
    }
   ],
   "source": [
    "#Identify the top 5 customers\n",
    "Top_customers_total = df.groupby('Customer ID')['Total_price'].sum()\n",
    "Top_customers_sort=Top_customers_total.sort_values(ascending=False)\n",
    "top_customers=Top_customers_sort.head(5)\n",
    "print(\"Top 5 customers:\",top_customers)"
   ]
  },
  {
   "cell_type": "markdown",
   "id": "b5b8d73b-6c21-492f-976d-958d4e333d94",
   "metadata": {},
   "source": [
    "<span style=\"color:blue\"> We found the first 5 customers using groub by and head() for Total Price for each customers and these are the results </span>"
   ]
  },
  {
   "cell_type": "markdown",
   "id": "fd239d6c-2698-41ae-a9d7-040643ce37ff",
   "metadata": {},
   "source": [
    "<span style=\"color:red\"> 3. Identify the top 5 selling items during this period. </span>"
   ]
  },
  {
   "cell_type": "code",
   "execution_count": 63,
   "id": "28613e24-9551-4028-a16e-df0aab674bc7",
   "metadata": {},
   "outputs": [
    {
     "name": "stdout",
     "output_type": "stream",
     "text": [
      "Top 5 Selling Items: StockCode\n",
      "84077     108545\n",
      "85123A     96066\n",
      "85099B     95739\n",
      "21212      95450\n",
      "84879      80705\n",
      "Name: Quantity, dtype: int64\n"
     ]
    }
   ],
   "source": [
    "#Identify the top 5 selling items\n",
    "top_selling_items = df.groupby('StockCode')['Quantity'].sum().sort_values(ascending=False)[:5]\n",
    "print(\"Top 5 Selling Items:\",top_selling_items)"
   ]
  },
  {
   "cell_type": "markdown",
   "id": "4c21d551-fefa-4140-9646-4dd76ceb522d",
   "metadata": {},
   "source": [
    "<span style=\"color:blue\"> We found the first 5 selling items using groub by and these are the results </span>"
   ]
  },
  {
   "cell_type": "markdown",
   "id": "b3951be4-26f6-4dc7-ad75-60137d8fb2d8",
   "metadata": {},
   "source": [
    "<span style=\"color:red\"> 4.Determine the most frequently purchased item pairs by customers and display the top 20 pairs. </span>"
   ]
  },
  {
   "cell_type": "code",
   "execution_count": 92,
   "id": "4f9a0efd-d086-4e4e-86f9-7dbf30b32942",
   "metadata": {},
   "outputs": [
    {
     "name": "stdout",
     "output_type": "stream",
     "text": [
      "                                               Description\n",
      "Invoice                                                   \n",
      "489434   [15CM CHRISTMAS GLASS BALL 20 LIGHTS, 15CM CHR...\n",
      "489435   [CAT BOWL , CAT BOWL , CAT BOWL , CAT BOWL , C...\n",
      "489436   [DOOR MAT BLACK FLOCK , DOOR MAT BLACK FLOCK ,...\n",
      "489437   [CHRISTMAS CRAFT HEART DECORATIONS, CHRISTMAS ...\n",
      "489438   [DINOSAURS  WRITING SET , DINOSAURS  WRITING S...\n",
      "...                                                    ...\n",
      "A528059                                  [Adjust bad debt]\n",
      "A563185                                  [Adjust bad debt]\n",
      "A563186                                  [Adjust bad debt]\n",
      "A563187                                  [Adjust bad debt]\n",
      "C496350                                           [Manual]\n",
      "\n",
      "[41944 rows x 1 columns]\n"
     ]
    }
   ],
   "source": [
    "\n",
    "# Group by 'Invoice' and aggregate the 'Description' column as a list\n",
    "pairs = df.groupby('Invoice').agg({'Description': list})\n",
    "print(pairs)\n",
    "\n"
   ]
  },
  {
   "cell_type": "markdown",
   "id": "d0e09009-0b78-473a-8b9f-be0ac5a39e0f",
   "metadata": {},
   "source": [
    "<span style=\"color:blue\"> We grouped all invoices with descriptions using Groupby and aggregation and these are the results </span>"
   ]
  },
  {
   "cell_type": "code",
   "execution_count": 96,
   "id": "38c2c18c-a7f7-432f-8ea7-88b3f14810e0",
   "metadata": {},
   "outputs": [
    {
     "name": "stdout",
     "output_type": "stream",
     "text": [
      "Invoice\n",
      "489434     {'RECORD FRAME 7\" SINGLE SIZE ': 48, 'STRAWBER...\n",
      "489435     {'HEART MEASURING SPOONS LARGE': 24, 'CAT BOWL...\n",
      "489436     {'SCOTTIE DOG HOT WATER BOTTLE': 24, 'LOVE BUI...\n",
      "489437     {'PARTY CONE CHRISTMAS DECORATION ': 12, 'RETR...\n",
      "489438     {'JUMBO BAG TOYS ': 60, 'CHARLIE+LOLA PINK HOT...\n",
      "                                 ...                        \n",
      "A528059                               {'Adjust bad debt': 1}\n",
      "A563185                               {'Adjust bad debt': 1}\n",
      "A563186                               {'Adjust bad debt': 1}\n",
      "A563187                               {'Adjust bad debt': 1}\n",
      "C496350                                        {'Manual': 1}\n",
      "Name: product_distribution, Length: 41944, dtype: object\n"
     ]
    }
   ],
   "source": [
    "# Define function to get product distribution within each group\n",
    "def get_dist(group):\n",
    "    counts = dict()\n",
    "    for i in group:\n",
    "        counts[i] = counts.get(i, 0) + 1\n",
    "    return dict(sorted(counts.items(), key=lambda item: item[1], reverse=True))\n",
    "\n",
    "# Apply the function to compute product distribution and assign it to a new column\n",
    "pairs['product_distribution'] = pairs['Description'].apply(get_dist)\n",
    "print(pairs['product_distribution'] )\n",
    "\n"
   ]
  },
  {
   "cell_type": "markdown",
   "id": "e72125f4-89cb-4876-b5fc-f056d998772a",
   "metadata": {},
   "source": [
    "<span style=\"color:blue\"> We have defined a function to get the distribution of the product  and these are the results </span>"
   ]
  },
  {
   "cell_type": "code",
   "execution_count": 94,
   "id": "4d261f72-c6ce-45de-a027-340451188e94",
   "metadata": {},
   "outputs": [
    {
     "name": "stdout",
     "output_type": "stream",
     "text": [
      "                                               Description  \\\n",
      "Invoice                                                      \n",
      "489434   [15CM CHRISTMAS GLASS BALL 20 LIGHTS, 15CM CHR...   \n",
      "489435   [CAT BOWL , CAT BOWL , CAT BOWL , CAT BOWL , C...   \n",
      "489436   [DOOR MAT BLACK FLOCK , DOOR MAT BLACK FLOCK ,...   \n",
      "489437   [CHRISTMAS CRAFT HEART DECORATIONS, CHRISTMAS ...   \n",
      "489438   [DINOSAURS  WRITING SET , DINOSAURS  WRITING S...   \n",
      "...                                                    ...   \n",
      "A528059                                  [Adjust bad debt]   \n",
      "A563185                                  [Adjust bad debt]   \n",
      "A563186                                  [Adjust bad debt]   \n",
      "A563187                                  [Adjust bad debt]   \n",
      "C496350                                           [Manual]   \n",
      "\n",
      "                                      product_distribution  \n",
      "Invoice                                                     \n",
      "489434   {'15CM CHRISTMAS GLASS BALL 20 LIGHTS': 12, 'P...  \n",
      "489435   {'CAT BOWL ': 12, 'DOG BOWL , CHASING BALL DES...  \n",
      "489436   {'DOOR MAT BLACK FLOCK ': 10, 'LOVE BUILDING B...  \n",
      "489437   {'CHRISTMAS CRAFT HEART DECORATIONS': 6, 'CHRI...  \n",
      "489438   {'DINOSAURS  WRITING SET ': 28, 'SET OF MEADOW...  \n",
      "...                                                    ...  \n",
      "A528059                             {'Adjust bad debt': 1}  \n",
      "A563185                             {'Adjust bad debt': 1}  \n",
      "A563186                             {'Adjust bad debt': 1}  \n",
      "A563187                             {'Adjust bad debt': 1}  \n",
      "C496350                                      {'Manual': 1}  \n",
      "\n",
      "[41944 rows x 2 columns]\n"
     ]
    }
   ],
   "source": [
    "# Rename columns\n",
    "pairs = pairs.rename(columns={'Invoice': 'Quantity', 'product_Amount': 'total_amount'})\n",
    "print(pairs)\n"
   ]
  },
  {
   "cell_type": "markdown",
   "id": "f0e1f869-4b81-449f-9f51-864408e5ae66",
   "metadata": {},
   "source": [
    "<span style=\"color:blue\">Column renaming using rename() enhances clarity by providing clearer and simpler names for columns, facilitating better understanding of the data. Additionally, it ensures alignment with other datasets    and these are the results </span>"
   ]
  },
  {
   "cell_type": "code",
   "execution_count": 95,
   "id": "b143c856-3c7e-456e-8037-7254ced3edf9",
   "metadata": {},
   "outputs": [
    {
     "name": "stdout",
     "output_type": "stream",
     "text": [
      "                                               Description  \\\n",
      "Invoice                                                      \n",
      "489434   [15CM CHRISTMAS GLASS BALL 20 LIGHTS, 15CM CHR...   \n",
      "489435   [CAT BOWL , CAT BOWL , CAT BOWL , CAT BOWL , C...   \n",
      "489436   [DOOR MAT BLACK FLOCK , DOOR MAT BLACK FLOCK ,...   \n",
      "489437   [CHRISTMAS CRAFT HEART DECORATIONS, CHRISTMAS ...   \n",
      "489438   [DINOSAURS  WRITING SET , DINOSAURS  WRITING S...   \n",
      "489439   [CHRISTMAS PUDDING TRINKET POT , CHRISTMAS PUD...   \n",
      "489440   [CAT BOWL , CAT BOWL , CAT BOWL , CAT BOWL , C...   \n",
      "489441   [BIRD DECORATION RED SPOT, BIRD DECORATION RED...   \n",
      "489442   [UNION JACK GUNS & ROSES  DOORMAT, UNION JACK ...   \n",
      "489443   [RETRO RED SPOTTY WASHING UP GLOVES, RETRO RED...   \n",
      "489444                                           [POSTAGE]   \n",
      "489445   [PINK FELT HANGING HEART W FLOWER, PINK FELT H...   \n",
      "489446   [RED HANGING HEART T-LIGHT HOLDER, RED HANGING...   \n",
      "489447                                           [POSTAGE]   \n",
      "489448   [GOLD APERITIF GLASS, GOLD APERITIF GLASS, GOL...   \n",
      "489450   [PAPER BUNTING WHITE LACE, PAPER BUNTING WHITE...   \n",
      "489460   [PINK CHERRY LIGHTS, PINK CHERRY LIGHTS, PINK ...   \n",
      "489461   [RED STRIPE CERAMIC DRAWER KNOB, RED STRIPE CE...   \n",
      "489462   [PINK SWEETHEART BRACELET, PINK SWEETHEART BRA...   \n",
      "489465   [FOLDING UMBRELLA , BLACK/BLUE  SPOT, FOLDING ...   \n",
      "\n",
      "                                      product_distribution  \n",
      "Invoice                                                     \n",
      "489434   {'15CM CHRISTMAS GLASS BALL 20 LIGHTS': 12, 'P...  \n",
      "489435   {'CAT BOWL ': 12, 'DOG BOWL , CHASING BALL DES...  \n",
      "489436   {'DOOR MAT BLACK FLOCK ': 10, 'LOVE BUILDING B...  \n",
      "489437   {'CHRISTMAS CRAFT HEART DECORATIONS': 6, 'CHRI...  \n",
      "489438   {'DINOSAURS  WRITING SET ': 28, 'SET OF MEADOW...  \n",
      "489439   {'CHRISTMAS PUDDING TRINKET POT ': 12, 'BAKING...  \n",
      "489440   {'CAT BOWL ': 8, 'DOG BOWL , CHASING BALL DESI...  \n",
      "489441   {'BIRD DECORATION RED SPOT': 12, 'BAKING SET 9...  \n",
      "489442   {'UNION JACK GUNS & ROSES  DOORMAT': 2, 'SCOTT...  \n",
      "489443   {'RETRO RED SPOTTY WASHING UP GLOVES': 6, 'SET...  \n",
      "489444                                      {'POSTAGE': 1}  \n",
      "489445   {'PINK FELT HANGING HEART W FLOWER': 12, 'BLUE...  \n",
      "489446   {'RED HANGING HEART T-LIGHT HOLDER': 32, 'WHIT...  \n",
      "489447                                      {'POSTAGE': 1}  \n",
      "489448   {'GOLD APERITIF GLASS': 48, 'GOLD WINE GLASS':...  \n",
      "489450   {'PAPER BUNTING WHITE LACE': 12, 'CREAM FELT E...  \n",
      "489460   {'PINK CHERRY LIGHTS': 8, 'PACK OF 60 PINK PAI...  \n",
      "489461   {'RED STRIPE CERAMIC DRAWER KNOB': 24, 'BLUE S...  \n",
      "489462   {'PINK SWEETHEART BRACELET': 3, 'GREEN SWEETHE...  \n",
      "489465   {'FOLDING UMBRELLA , BLACK/BLUE  SPOT': 12, 'F...  \n"
     ]
    }
   ],
   "source": [
    "# peint top 20 selling item\n",
    "Top_selling_item=pairs.head(20)\n",
    "print(Top_selling_item)\n"
   ]
  },
  {
   "cell_type": "markdown",
   "id": "f7612c55-bec2-4978-8a19-2764cc882b6b",
   "metadata": {},
   "source": [
    "<span style=\"color:blue\"> We found top 20 selling item using head() and these are the results </span>"
   ]
  },
  {
   "cell_type": "markdown",
   "id": "cb5a333c-ab32-4f3e-a972-0cbf1e458c5d",
   "metadata": {},
   "source": [
    "<span style=\"color:red\"> 5.The retail store aims to introduce a new promotion targeting items with low sales volume. This promotion entails offering a discounted price for a pair of two different items, with one item being among the top 10 best sellers and the other from the bottom 10 sellers. Customers who purchase these two items together will qualify for the special pricing. Your task is to recommend 10 pairs of items to kickstart this campaign. </span>"
   ]
  },
  {
   "cell_type": "code",
   "execution_count": 71,
   "id": "5781ae7e-c7f9-40bc-b100-2fd1b676ee82",
   "metadata": {},
   "outputs": [
    {
     "name": "stdout",
     "output_type": "stream",
     "text": [
      "Description\n",
      "REGENCY CAKESTAND 3 TIER               327813.65\n",
      "DOTCOM POSTAGE                         322647.47\n",
      "WHITE HANGING HEART T-LIGHT HOLDER     257533.90\n",
      "JUMBO BAG RED RETROSPOT                148800.64\n",
      "PARTY BUNTING                          147948.50\n",
      "ASSORTED COLOUR BIRD ORNAMENT          131413.85\n",
      "PAPER CHAIN KIT 50'S CHRISTMAS         121662.14\n",
      "POSTAGE                                112341.00\n",
      "CHILLI LIGHTS                           84854.16\n",
      "ROTATING SILVER ANGELS T-LIGHT HLDR     73814.72\n",
      "Name: Total_price, dtype: float64\n"
     ]
    }
   ],
   "source": [
    "# Identify top 10 best-selling items\n",
    "top_10 = df.groupby('Description')['Total_price'].sum().sort_values(ascending=False).head(10)\n",
    "print(top_10)"
   ]
  },
  {
   "cell_type": "markdown",
   "id": "8cd3722c-2ff9-40ed-9391-794c28c363c4",
   "metadata": {},
   "source": [
    "<span style=\"color:blue\"> We calculated total sales for each item by grouping the DataFrame df by the “Description” column. It then sums the 'Total_price' for each group and sorts the result in descending order. Finally, we selected the top 10 items with the highest total sales and printed them. and these are the results </span>"
   ]
  },
  {
   "cell_type": "code",
   "execution_count": 70,
   "id": "d6b7bcb6-8ddd-457f-9bcb-083ad0753de3",
   "metadata": {},
   "outputs": [
    {
     "name": "stdout",
     "output_type": "stream",
     "text": [
      "Description\n",
      "AMAZON FEE                            -260763.580\n",
      "Adjust bad debt                       -147614.080\n",
      "Manual                                 -82781.270\n",
      "Bank Charges                           -33493.669\n",
      "Discount                               -13484.540\n",
      "CRUK Commission                         -7933.430\n",
      "SAMPLES                                 -6065.800\n",
      " Bank Charges                           -2068.960\n",
      "Adjustment by Peter on 24/05/2010 1      -731.050\n",
      "SILVER CHERRY LIGHTS                     -611.280\n",
      "Name: Total_price, dtype: float64\n"
     ]
    }
   ],
   "source": [
    "# Identify bottom 10 sellers\n",
    "bottom_10 = df.groupby('Description')['Total_price'].sum().sort_values()[:10]\n",
    "print(bottom_10)"
   ]
  },
  {
   "cell_type": "markdown",
   "id": "30a6b110-bcf5-40d1-ba43-7d89f5fca492",
   "metadata": {},
   "source": [
    "<span style=\"color:blue\"> We calculated total sales for each item by grouping the DataFrame df by the “Description” column. It then sums the 'Total_price' for each group and sorts the result in descending order. Finally, we selected the bottom 10 sellers with the highest total sales and printed them. and these are the results </span>"
   ]
  },
  {
   "cell_type": "code",
   "execution_count": 72,
   "id": "f15204d5-1054-4cdf-bc3c-2cb7a36bd13d",
   "metadata": {},
   "outputs": [
    {
     "name": "stdout",
     "output_type": "stream",
     "text": [
      "Description\n",
      "REGENCY CAKESTAND 3 TIER               327813.650\n",
      "DOTCOM POSTAGE                         322647.470\n",
      "WHITE HANGING HEART T-LIGHT HOLDER     257533.900\n",
      "JUMBO BAG RED RETROSPOT                148800.640\n",
      "PARTY BUNTING                          147948.500\n",
      "ASSORTED COLOUR BIRD ORNAMENT          131413.850\n",
      "PAPER CHAIN KIT 50'S CHRISTMAS         121662.140\n",
      "POSTAGE                                112341.000\n",
      "CHILLI LIGHTS                           84854.160\n",
      "ROTATING SILVER ANGELS T-LIGHT HLDR     73814.720\n",
      "AMAZON FEE                            -260763.580\n",
      "Adjust bad debt                       -147614.080\n",
      "Manual                                 -82781.270\n",
      "Bank Charges                           -33493.669\n",
      "Discount                               -13484.540\n",
      "CRUK Commission                         -7933.430\n",
      "SAMPLES                                 -6065.800\n",
      " Bank Charges                           -2068.960\n",
      "Adjustment by Peter on 24/05/2010 1      -731.050\n",
      "SILVER CHERRY LIGHTS                     -611.280\n",
      "Name: Total_price, dtype: float64\n"
     ]
    }
   ],
   "source": [
    "# Merge top 10 best-selling items and bottom 10 sellers dataframes\n",
    "merged_df = pd.concat([top_10, bottom_10])\n",
    "print (merged_df)"
   ]
  },
  {
   "cell_type": "markdown",
   "id": "f1ec795d-46d7-4a8a-97a4-088a3f432a57",
   "metadata": {},
   "source": [
    "<span style=\"color:blue\"> We combined the top 10 DataFrame sellers (top_10) and bottom 10 DataFrame sellers (bottom_10) into one DataFrame (merged_df). and these are the results </span>"
   ]
  },
  {
   "cell_type": "code",
   "execution_count": 82,
   "id": "973bd1ed-3509-4291-9fea-5ab3c94237b9",
   "metadata": {},
   "outputs": [
    {
     "name": "stdout",
     "output_type": "stream",
     "text": [
      "[frozenset({'CRUK Commission', 'Discount'}), frozenset({'POSTAGE', 'SAMPLES'}), frozenset({'AMAZON FEE', 'JUMBO BAG RED RETROSPOT'}), frozenset({'JUMBO BAG RED RETROSPOT', \"PAPER CHAIN KIT 50'S CHRISTMAS \"}), frozenset({'POSTAGE', 'Adjust bad debt'}), frozenset({'POSTAGE', 'CRUK Commission'}), frozenset({'Bank Charges', 'REGENCY CAKESTAND 3 TIER'}), frozenset({' Bank Charges', 'Adjust bad debt'}), frozenset({'AMAZON FEE', 'Adjustment by Peter on 24/05/2010 1'}), frozenset({'ASSORTED COLOUR BIRD ORNAMENT', 'Manual'})]\n"
     ]
    }
   ],
   "source": [
    "# Randomly select 10 pairs of items\n",
    "pairs = []\n",
    "while len(pairs) < 10:\n",
    "    item1 = merged_df.sample(n=1).index[0]\n",
    "    item2 = merged_df.sample(n=1).index[0]\n",
    "    if (item1 != item2) and (frozenset([item1, item2]) not in pairs):\n",
    "        pairs.append(frozenset([item1, item2]))\n",
    "print(pairs)\n"
   ]
  },
  {
   "cell_type": "markdown",
   "id": "ac96f674-f09d-4e6c-b09b-59882df5e359",
   "metadata": {},
   "source": [
    "<span style=\"color:blue\">This code ensures that each pair of items is unique and that no item is paired with itself. Randomly selects elements from the merged_df DataFrame to create pairs  and these are the results </span>"
   ]
  },
  {
   "cell_type": "code",
   "execution_count": 81,
   "id": "34933942-e086-40d1-b119-c0c81e446500",
   "metadata": {},
   "outputs": [
    {
     "name": "stdout",
     "output_type": "stream",
     "text": [
      "Pair 1: frozenset({'AMAZON FEE', 'CHILLI LIGHTS'})\n",
      "Pair 2: frozenset({'PARTY BUNTING', 'SAMPLES'})\n",
      "Pair 3: frozenset({'PARTY BUNTING', 'JUMBO BAG RED RETROSPOT'})\n",
      "Pair 4: frozenset({'ASSORTED COLOUR BIRD ORNAMENT', 'JUMBO BAG RED RETROSPOT'})\n",
      "Pair 5: frozenset({'SILVER CHERRY LIGHTS', 'Bank Charges'})\n",
      "Pair 6: frozenset({'Bank Charges', 'CHILLI LIGHTS'})\n",
      "Pair 7: frozenset({'ASSORTED COLOUR BIRD ORNAMENT', 'Bank Charges'})\n",
      "Pair 8: frozenset({'CRUK Commission', 'PARTY BUNTING'})\n",
      "Pair 9: frozenset({' Bank Charges', 'JUMBO BAG RED RETROSPOT'})\n",
      "Pair 10: frozenset({'Adjustment by Peter on 24/05/2010 1', 'SAMPLES'})\n"
     ]
    }
   ],
   "source": [
    "# Display the recommended pairs of items\n",
    "for i in range(10):\n",
    "    print(f\"Pair {i+1}: {pairs[i]}\")"
   ]
  },
  {
   "cell_type": "markdown",
   "id": "cd52e67d-3591-4cb1-ba67-9207aa4fb3e2",
   "metadata": {},
   "source": [
    "<span style=\"color:blue\">This code provides a clear and concise way to present the recommended pairs of items \n",
    "  and these are the results </span>"
   ]
  },
  {
   "cell_type": "code",
   "execution_count": null,
   "id": "017920b7-6606-4e17-b79b-4deb9c14e722",
   "metadata": {},
   "outputs": [],
   "source": []
  }
 ],
 "metadata": {
  "kernelspec": {
   "display_name": "Python 3 (ipykernel)",
   "language": "python",
   "name": "python3"
  },
  "language_info": {
   "codemirror_mode": {
    "name": "ipython",
    "version": 3
   },
   "file_extension": ".py",
   "mimetype": "text/x-python",
   "name": "python",
   "nbconvert_exporter": "python",
   "pygments_lexer": "ipython3",
   "version": "3.12.2"
  }
 },
 "nbformat": 4,
 "nbformat_minor": 5
}
