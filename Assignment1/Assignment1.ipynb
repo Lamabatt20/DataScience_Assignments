{
 "cells": [
  {
   "cell_type": "markdown",
   "id": "0bc29973-ab74-40ae-ae5f-886d59ef8cfe",
   "metadata": {},
   "source": [
    "Student Name lama Batta ,Student ID 1210922,Assignment #1\n"
   ]
  },
  {
   "cell_type": "code",
   "execution_count": 8,
   "id": "5b8507c1-e64a-4a0d-9b67-823130b0e0c5",
   "metadata": {},
   "outputs": [
    {
     "name": "stdout",
     "output_type": "stream",
     "text": [
      "My name is Lama Batta. I am currently studying at the Birzeit university with the ID 1210922. I am expected to graduate in 2025-2026. I joined this course because To learn new skills.\n"
     ]
    }
   ],
   "source": [
    "first_name = \"Lama\"\n",
    "last_name = \"Batta\"\n",
    "university_id = \"1210922\"\n",
    "expected_graduation_date = \"2025-2026\"\n",
    "main_reason_for_joining_the_course = \"To learn new skills\"\n",
    "\n",
    "about = (\"My name is {} {}. I am currently studying at the Birzeit university with \"\n",
    "         \"the ID {}. I am expected to graduate in {}. I joined this course \"\n",
    "         \"because {}.\").format(first_name, last_name, university_id,\n",
    "                               expected_graduation_date,\n",
    "                               main_reason_for_joining_the_course)\n",
    "print(about)\n"
   ]
  },
  {
   "cell_type": "code",
   "execution_count": null,
   "id": "477d3538-8d70-4703-928e-fd246bb2afe2",
   "metadata": {},
   "outputs": [],
   "source": []
  }
 ],
 "metadata": {
  "kernelspec": {
   "display_name": "Python 3 (ipykernel)",
   "language": "python",
   "name": "python3"
  },
  "language_info": {
   "codemirror_mode": {
    "name": "ipython",
    "version": 3
   },
   "file_extension": ".py",
   "mimetype": "text/x-python",
   "name": "python",
   "nbconvert_exporter": "python",
   "pygments_lexer": "ipython3",
   "version": "3.12.2"
  }
 },
 "nbformat": 4,
 "nbformat_minor": 5
}
