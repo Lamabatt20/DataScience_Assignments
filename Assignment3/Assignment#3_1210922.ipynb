{
 "cells": [
  {
   "cell_type": "markdown",
   "id": "f07c1613-60a5-4c33-86c0-4381008b3225",
   "metadata": {},
   "source": [
    "Assignment #3\n",
    "Name: lama batta\n",
    "id : 1210922"
   ]
  },
  {
   "cell_type": "markdown",
   "id": "dc4d4f4d-1d0e-4b1e-bc0f-493d0b13fdd8",
   "metadata": {},
   "source": [
    "Import libraries"
   ]
  },
  {
   "cell_type": "code",
   "execution_count": 1,
   "id": "35ad3d9a-39f6-4d26-ab7d-42b69044a635",
   "metadata": {},
   "outputs": [],
   "source": [
    "import numpy as np \n"
   ]
  },
  {
   "cell_type": "markdown",
   "id": "5ec368ce-a921-4164-a455-d90269dc2315",
   "metadata": {},
   "source": [
    "Generate a normally distributed sample "
   ]
  },
  {
   "cell_type": "code",
   "execution_count": 2,
   "id": "3af8fb1f-70f3-4d00-9f16-65e501a93cea",
   "metadata": {},
   "outputs": [],
   "source": [
    "#Set seed with your ID\n",
    "np.random.seed(1210922)\n",
    "\n",
    "# Generate population data\n",
    "population = np.random.normal(loc=1500, scale=700, size=10000000)\n",
    "\n",
    "# Sample sizes\n",
    "sample_sizes = [10, 100, 1000, 10000]\n",
    "\n",
    "# Sample randomly from the population\n",
    "samples = {}\n",
    "for size in sample_sizes:\n",
    "    samples[size] = np.random.choice(population, size=size, replace=False)\n",
    "    "
   ]
  },
  {
   "cell_type": "markdown",
   "id": "2dcf7bf2-6a62-4a08-a259-942e90664fc8",
   "metadata": {},
   "source": [
    "Relation between sample size and sampling error:\n",
    "\n",
    "- is inversely proportional,as sample size increases, sampling error decreases. This is because larger samples provide more information about the population, \n",
    "leading to more precise estimates of population parameters."
   ]
  },
  {
   "cell_type": "markdown",
   "id": "85d76303-1871-4ca9-b4f3-a7eac22ea284",
   "metadata": {},
   "source": [
    "Which sample is more representative of the population?\n",
    "- To choose the sample that most represents the population ,We can compare the distribution of each sample with the distribution of the population.\n",
    "We choose the sample size of 10,000 because it is only large, but the simple error is very small"
   ]
  },
  {
   "cell_type": "markdown",
   "id": "32304cba-51f3-4bd8-8775-c4dbd7e52a1a",
   "metadata": {},
   "source": [
    "a. Is the sample randomly distributed ? "
   ]
  },
  {
   "cell_type": "code",
   "execution_count": 5,
   "id": "7a23cab7-0303-4767-af46-94fd8d460207",
   "metadata": {},
   "outputs": [],
   "source": [
    "# choose the sample size of 10000\n",
    "chosen_sample = samples[10000]"
   ]
  },
  {
   "cell_type": "markdown",
   "id": "7edba8a6-01a0-422f-a8cf-22242c1b98b8",
   "metadata": {},
   "source": [
    "Import libraries"
   ]
  },
  {
   "cell_type": "code",
   "execution_count": 13,
   "id": "568948a5-ffe0-4fc5-a7ac-6b4174961554",
   "metadata": {},
   "outputs": [
    {
     "data": {
      "image/png": "[encoded data removed]",
      "text/plain": [
       "<Figure size 640x480 with 1 Axes>"
      ]
     },
     "metadata": {},
     "output_type": "display_data"
    }
   ],
   "source": [
    "import matplotlib.pyplot as plt\n",
    "plt.hist(chosen_sample)\n",
    "plt.xlabel('Value')\n",
    "plt.ylabel('Frequency')\n",
    "plt.title('Population vs Sample Distribution')\n",
    "plt.show()\n"
   ]
  },
  {
   "cell_type": "markdown",
   "id": "74cc0b84-c092-4987-9ee6-5fb648afa817",
   "metadata": {},
   "source": [
    "b. What is the value that 50% of the data below it?"
   ]
  },
  {
   "cell_type": "code",
   "execution_count": 15,
   "id": "e57389a4-826a-4a60-9d6c-31f98d6f4187",
   "metadata": {},
   "outputs": [],
   "source": [
    "median_value = np.percentile(chosen_sample, 50)"
   ]
  },
  {
   "cell_type": "markdown",
   "id": "66c24e78-aa5b-4f74-b7f2-6c894fe69afa",
   "metadata": {},
   "source": [
    "c. What is the value that 75% of the data below it?"
   ]
  },
  {
   "cell_type": "code",
   "execution_count": 19,
   "id": "ab9ee532-fe88-402a-be7e-5a227880d8f7",
   "metadata": {},
   "outputs": [],
   "source": [
    "q3_value=np.percentile(chosen_sample, 75)"
   ]
  },
  {
   "cell_type": "markdown",
   "id": "812ac65f-2f87-49b9-a49c-34753bfdb81c",
   "metadata": {},
   "source": [
    "d. What is the value that 25% of the data below it?"
   ]
  },
  {
   "cell_type": "code",
   "execution_count": 17,
   "id": "085c28da-2360-47c3-9e65-3b7d3f2bc21b",
   "metadata": {},
   "outputs": [],
   "source": [
    "q1_value = np.percentile(chosen_sample, 25)"
   ]
  },
  {
   "cell_type": "markdown",
   "id": "2bf09f29-d6e3-439b-9c4e-46daf297c8c7",
   "metadata": {},
   "source": [
    "e. What are the values calculated in b, c, and d are statistically called ?"
   ]
  },
  {
   "cell_type": "code",
   "execution_count": 21,
   "id": "325b1655-7644-422f-8a41-8bfa326ea4bd",
   "metadata": {},
   "outputs": [
    {
     "name": "stdout",
     "output_type": "stream",
     "text": [
      "(median)50th percentile: 1510.0282376641653\n",
      "75th percentile: 1972.924625250997\n",
      "25th percentile: 1034.2024784273544\n"
     ]
    }
   ],
   "source": [
    "print(\"(median)50th percentile:\", median_value)\n",
    "print(\"75th percentile:\", q3_value)\n",
    "print(\"25th percentile:\", q1_value)"
   ]
  },
  {
   "cell_type": "code",
   "execution_count": null,
   "id": "fa92cee2-3437-4f9e-8a0f-20ae76c1636c",
   "metadata": {},
   "outputs": [],
   "source": []
  }
 ],
 "metadata": {
  "kernelspec": {
   "display_name": "Python 3 (ipykernel)",
   "language": "python",
   "name": "python3"
  },
  "language_info": {
   "codemirror_mode": {
    "name": "ipython",
    "version": 3
   },
   "file_extension": ".py",
   "mimetype": "text/x-python",
   "name": "python",
   "nbconvert_exporter": "python",
   "pygments_lexer": "ipython3",
   "version": "3.12.2"
  }
 },
 "nbformat": 4,
 "nbformat_minor": 5
}
