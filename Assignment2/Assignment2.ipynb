{
 "cells": [
  {
   "cell_type": "code",
   "execution_count": 4,
   "id": "a69b3473-a9d0-474d-8425-32053dd8c4f8",
   "metadata": {},
   "outputs": [
    {
     "name": "stdout",
     "output_type": "stream",
     "text": [
      "[[ 2.   2.   3.3  1.5  8.   2.5  7.   3.3]\n",
      " [ 3.1  3.   3.5  3.   8.   5.  10.   5. ]\n",
      " [ 3.   3.   3.3  1.5  8.   3.   9.   3. ]\n",
      " [ 4.   2.4  3.5  3.  10.   5.  12.   5. ]\n",
      " [ 3.   2.5  4.   1.5  8.   3.   7.   4. ]\n",
      " [ 2.3  2.   3.3  1.  12.   3.   7.   3.3]\n",
      " [ 3.5  3.   5.   3.  12.   5.  13.   4. ]\n",
      " [ 2.7  2.   3.   2.   7.   2.   8.   3.5]]\n",
      "[ 62.05  48.4   69.05  44.5  177.    73.5  192.    78.9 ]\n",
      "Chosen grocery: 3\n"
     ]
    }
   ],
   "source": [
    "import numpy as np\n",
    "AboAhmad=np.load(\"Abo Ahmad.npy\")\n",
    "Baghdad=np.load(\"Baghdad.npy\")\n",
    "Bravo= np.load( \"Bravo.npy\"  )\n",
    "Gardens=np.load(\"Gardens.npy\")\n",
    "Karaz=np.load(\"Karaz.npy\")\n",
    "Mawares=np.load(\"Mawares.npy\")\n",
    "Maxmar=np.load(\"Max mar.npy\")\n",
    "Shini=np.load(\"Shini.npy\")\n",
    "prices=[AboAhmad,Baghdad,Bravo,Gardens,Karaz,Mawares,Maxmar,Shini]\n",
    "prices = np.array(prices)\n",
    "print (prices)\n",
    "amounts = np.array([2, 1.5, 3, 6, 1, 1, 2, 3])\n",
    "total_costs = np.dot(amounts, prices)\n",
    "print (total_costs)\n",
    "min_cost = np.argmin(total_costs)\n",
    "print(\"Chosen grocery:\", min_cost)\n"
   ]
  }
 ],
 "metadata": {
  "kernelspec": {
   "display_name": "Python 3 (ipykernel)",
   "language": "python",
   "name": "python3"
  },
  "language_info": {
   "codemirror_mode": {
    "name": "ipython",
    "version": 3
   },
   "file_extension": ".py",
   "mimetype": "text/x-python",
   "name": "python",
   "nbconvert_exporter": "python",
   "pygments_lexer": "ipython3",
   "version": "3.12.2"
  }
 },
 "nbformat": 4,
 "nbformat_minor": 5
}
